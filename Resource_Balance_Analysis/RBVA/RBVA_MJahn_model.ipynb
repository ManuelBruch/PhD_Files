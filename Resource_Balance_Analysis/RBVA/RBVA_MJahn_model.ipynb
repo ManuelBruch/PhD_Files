{
 "cells": [
  {
   "cell_type": "markdown",
   "id": "a99eea5a",
   "metadata": {},
   "source": [
    "# Running RBAtools for RBA variability analysis"
   ]
  },
  {
   "cell_type": "markdown",
   "id": "3710f454",
   "metadata": {},
   "source": [
    "## Import packages"
   ]
  },
  {
   "cell_type": "code",
   "execution_count": null,
   "id": "6299c539",
   "metadata": {},
   "outputs": [],
   "source": [
    "import os\n",
    "import matplotlib as mpl\n",
    "import matplotlib.pyplot as plt\n",
    "import seaborn as sns\n",
    "import pandas as pd\n",
    "import numpy as np\n",
    "import rba\n",
    "import pickle\n",
    "\n",
    "from ipywidgets import IntProgress\n",
    "from IPython.display import display\n",
    "\n",
    "from rbatools.rba_session import SessionRBA"
   ]
  },
  {
   "cell_type": "markdown",
   "id": "212e0e30",
   "metadata": {},
   "source": [
    "## Define functions"
   ]
  },
  {
   "cell_type": "code",
   "execution_count": null,
   "id": "29c9d7c1",
   "metadata": {},
   "outputs": [],
   "source": [
    "# function to record only protein results\n",
    "# based on SessionRBA method record_results\n",
    "import rbatools._auxiliary_functions as _auxiliary_functions\n",
    "\n",
    "def rec_prots(sessionRBA, run_name: str):\n",
    "    if not hasattr(sessionRBA, 'Results'):\n",
    "            sessionRBA.Results = {'Reactions': pd.DataFrame(index=list(sessionRBA.ModelStructure.ReactionInfo.Elements.keys())),\n",
    "                            'Enzymes': pd.DataFrame(index=list(sessionRBA.ModelStructure.EnzymeInfo.Elements.keys())),\n",
    "                            'Processes': pd.DataFrame(index=[sessionRBA.ModelStructure.ProcessInfo.Elements[i]['ID']+'_machinery' for i in sessionRBA.ModelStructure.ProcessInfo.Elements.keys()]),\n",
    "                            'Proteins': pd.DataFrame(index=list(sessionRBA.ModelStructure.ProteinMatrix['Proteins'])),\n",
    "                            'ProtoProteins': pd.DataFrame(index=list(sessionRBA.ModelStructure.ProteinGeneMatrix['ProtoProteins'])),\n",
    "                            'Constraints': pd.DataFrame(index=sessionRBA.Problem.LP.row_names),\n",
    "                            'SolutionType': pd.DataFrame(index=['SolutionType']),\n",
    "                            'ObjectiveFunction': pd.DataFrame(index=sessionRBA.Problem.LP.col_names),\n",
    "                            'Mu': pd.DataFrame(index=['Mu']),\n",
    "                            'ObjectiveValue': pd.DataFrame(index=['ObjectiveValue']),\n",
    "                            'ExchangeFluxes': pd.DataFrame(index=list(sessionRBA.ExchangeMap.keys()))}\n",
    "    \n",
    "    sessionRBA.Results['Proteins'][run_name] = _auxiliary_functions.record_proteome(RBA_Session=sessionRBA, run=run_name)"
   ]
  },
  {
   "cell_type": "markdown",
   "id": "26864237",
   "metadata": {},
   "source": [
    "## load the model"
   ]
  },
  {
   "cell_type": "code",
   "execution_count": null,
   "id": "92d72d91",
   "metadata": {},
   "outputs": [],
   "source": [
    "xml_dir = 'model\\\\'\n",
    "output_dir = 'RBVA_MJahn_model\\\\'\n",
    "if not os.path.isdir(output_dir):\n",
    "    os.mkdir(output_dir)\n",
    "\n",
    "simulation = SessionRBA(xml_dir, lp_solver = 'cplex')"
   ]
  },
  {
   "cell_type": "code",
   "execution_count": null,
   "id": "47236eb1",
   "metadata": {},
   "outputs": [],
   "source": [
    "substrate = pd.read_csv('simulation\\\\substrate_input.csv')\n",
    "# print(substrate)\n",
    "mediumDict = simulation.get_medium()\n",
    "\n",
    "# select medium composition for analysis\n",
    "mediumRow = 2 # 0 to 2\n",
    "sessName = '240115_RBVA'\n",
    "if mediumRow == 0:\n",
    "    sessName = sessName + '_80mMFA_fullN'\n",
    "elif mediumRow == 1:\n",
    "    sessName = sessName + '_80mMFA_limN'\n",
    "elif mediumRow == 2:\n",
    "    sessName = sessName + '_150mMFA_limN'"
   ]
  },
  {
   "cell_type": "code",
   "execution_count": null,
   "id": "c61672c3",
   "metadata": {},
   "outputs": [],
   "source": [
    "# print(mediumDict)\n",
    "print(float(substrate['carbon_conc'].loc[mediumRow]))\n",
    "print(float(substrate['nitrogen_conc'].loc[mediumRow]))"
   ]
  },
  {
   "cell_type": "markdown",
   "id": "17f0daf0",
   "metadata": {},
   "source": [
    "### set medium"
   ]
  },
  {
   "cell_type": "code",
   "execution_count": null,
   "id": "114736e2",
   "metadata": {},
   "outputs": [],
   "source": [
    "carbonConc = float(substrate['carbon_conc'].loc[mediumRow])\n",
    "nitrogenConc = float(substrate['nitrogen_conc'].loc[mediumRow])\n",
    "\n",
    "simulation.set_medium({'M_for': carbonConc})\n",
    "simulation.set_medium({'M_nh4': nitrogenConc})\n",
    "print(mediumDict)"
   ]
  },
  {
   "cell_type": "markdown",
   "id": "d4bcbbbe",
   "metadata": {},
   "source": [
    "### get reactions and mumax"
   ]
  },
  {
   "cell_type": "code",
   "execution_count": null,
   "id": "182cb7ad",
   "metadata": {},
   "outputs": [],
   "source": [
    "# get list of all proteins to later relate IDs to proteomics data\n",
    "\n",
    "proteinList = simulation.get_proteins()\n",
    "proteinInformation = {}\n",
    "for prot in proteinList:\n",
    "    protInformation = simulation.get_protein_information(protein = prot)\n",
    "    proteinInformation[prot] = protInformation\n",
    "\n",
    "# # export this dictionary to later map reaction names to proper identifiers\n",
    "saveFileName = 'C_necator_MJahn_RBA_model_proteins'\n",
    "curFolder = os.getcwd()\n",
    "savePath = os.path.join(curFolder, saveFileName + '.pkl')\n",
    "\n",
    "with open(savePath, 'wb+') as f:\n",
    "    pickle.dump(proteinInformation, f)"
   ]
  },
  {
   "cell_type": "code",
   "execution_count": null,
   "id": "acb773bd",
   "metadata": {},
   "outputs": [],
   "source": [
    "reactionList = simulation.get_reactions()\n",
    "\n",
    "mumax = simulation.find_max_growth_rate()"
   ]
  },
  {
   "cell_type": "markdown",
   "id": "18f60f5f",
   "metadata": {},
   "source": [
    "## Record simple RBA result"
   ]
  },
  {
   "cell_type": "code",
   "execution_count": null,
   "id": "f38f8809",
   "metadata": {},
   "outputs": [],
   "source": [
    "print(mumax)\n",
    "simulation.record_results(run_name=\"mu_max\")\n",
    "simulation.write_results(session_name = sessName + '_muMax')"
   ]
  },
  {
   "cell_type": "code",
   "execution_count": null,
   "id": "693d24c7",
   "metadata": {},
   "outputs": [],
   "source": [
    "simulation.SimulationData.export_csv(output_directory = output_dir + 'manual_RBVA_results\\\\')"
   ]
  },
  {
   "cell_type": "markdown",
   "id": "204041f4",
   "metadata": {},
   "source": [
    "## Simulate variability of each reaction"
   ]
  },
  {
   "cell_type": "code",
   "execution_count": null,
   "id": "aa71f332",
   "metadata": {},
   "outputs": [],
   "source": [
    "simulation.set_growth_rate(Mu = mumax)\n",
    "\n",
    "for rxn in reactionList:\n",
    "    simulation.Problem.clear_objective()\n",
    "    simulation.Problem.set_objective(inputDict = {rxn: 1.0})\n",
    "    simulation.Problem.solve_lp(feasible_stati=[\"optimal\",\"feasible\",\"feasible_only_before_unscaling\"],try_unscaling_if_sol_status_is_feasible_only_before_unscaling=False)\n",
    "#     simulation.record_results(run_name = rxn + '_min')\n",
    "    rec_prots(simulation, run_name = rxn + '_min')\n",
    "# edit the record_results funtion to only record the proteome\n",
    "    simulation.Problem.set_objective(inputDict = {rxn: -1.0})\n",
    "    simulation.Problem.solve_lp(feasible_stati=[\"optimal\",\"feasible\",\"feasible_only_before_unscaling\"],try_unscaling_if_sol_status_is_feasible_only_before_unscaling=False)\n",
    "#     simulation.record_results(run_name = rxn + '_max')\n",
    "    rec_prots(simulation, run_name = rxn + '_max')\n",
    "\n",
    "simulation.write_results(session_name = sessName) \n",
    "simulation.SimulationData.export_csv(output_directory = output_dir + 'manual_RBVA_results\\\\')"
   ]
  },
  {
   "cell_type": "code",
   "execution_count": null,
   "id": "fdc22b88",
   "metadata": {
    "scrolled": true
   },
   "outputs": [],
   "source": [
    "simulation.write_results(session_name = sessName) \n",
    "simulation.SimulationData.export_csv(output_directory = output_dir + 'manual_RBVA_results\\\\')"
   ]
  },
  {
   "cell_type": "markdown",
   "id": "c9ba1c38",
   "metadata": {},
   "source": [
    "save the feasible ranges as a dictionary"
   ]
  },
  {
   "cell_type": "code",
   "execution_count": null,
   "id": "f7bb7f7a",
   "metadata": {},
   "outputs": [],
   "source": [
    "saveFileName = '240105_RBVA_ranges_150mM_FA_limN'\n",
    "curFolder = os.getcwd()\n",
    "savePath = os.path.join(curFolder, 'simulation', 'RBVA_results', saveFileName + '.pkl')\n",
    "\n",
    "with open(savePath, 'wb+') as f:\n",
    "    pickle.dump(Feasible_Ranges, f)"
   ]
  },
  {
   "cell_type": "code",
   "execution_count": null,
   "id": "48dc0bab",
   "metadata": {},
   "outputs": [],
   "source": []
  }
 ],
 "metadata": {
  "kernelspec": {
   "display_name": "Python 3 (ipykernel)",
   "language": "python",
   "name": "python3"
  },
  "language_info": {
   "codemirror_mode": {
    "name": "ipython",
    "version": 3
   },
   "file_extension": ".py",
   "mimetype": "text/x-python",
   "name": "python",
   "nbconvert_exporter": "python",
   "pygments_lexer": "ipython3",
   "version": "3.8.0"
  }
 },
 "nbformat": 4,
 "nbformat_minor": 5
}
